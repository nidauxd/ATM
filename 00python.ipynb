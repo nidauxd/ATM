{
  "nbformat": 4,
  "nbformat_minor": 0,
  "metadata": {
    "colab": {
      "provenance": [],
      "authorship_tag": "ABX9TyPt1s50i/0XBJr+rR0qy6q3",
      "include_colab_link": true
    },
    "kernelspec": {
      "name": "python3",
      "display_name": "Python 3"
    },
    "language_info": {
      "name": "python"
    }
  },
  "cells": [
    {
      "cell_type": "markdown",
      "metadata": {
        "id": "view-in-github",
        "colab_type": "text"
      },
      "source": [
        "<a href=\"https://colab.research.google.com/github/nidauxd/ATM/blob/main/00python.ipynb\" target=\"_parent\"><img src=\"https://colab.research.google.com/assets/colab-badge.svg\" alt=\"Open In Colab\"/></a>"
      ]
    },
    {
      "cell_type": "code",
      "execution_count": null,
      "metadata": {
        "colab": {
          "base_uri": "https://localhost:8080/"
        },
        "id": "tI3Fj4BGWrql",
        "outputId": "976d3ce7-9d58-400e-fb43-c94f13943a9f"
      },
      "outputs": [
        {
          "output_type": "stream",
          "name": "stdout",
          "text": [
            "01_add_two_numbers\n",
            "This application is for adding two numbers.\n",
            "Enter the first number 20\n",
            "Enter the second number12\n",
            "The total sum of20 and 12 is 32\n"
          ]
        }
      ],
      "source": [
        "print(\"01_add_two_numbers\")\n",
        "def add():\n",
        "  print(\"This application is for adding two numbers.\")\n",
        "  first_number = int(input(\"Enter the first number \"))\n",
        "  second_number = int(input(\"Enter the second number\"))\n",
        "  total = int(first_number + second_number)\n",
        "  print(f\"The total sum of{first_number} and {second_number} is {total}\")\n",
        "if __name__ == \"__main__\":\n",
        " add()"
      ]
    },
    {
      "cell_type": "code",
      "source": [
        "print(\"02_agreement_bot\")\n",
        "def bot():\n",
        "  animal = str(input(\"What thier favourite animal is.\"))\n",
        "  print(f\"my favourite animal is also {animal}! \")\n",
        "if  __name__ == \"__main__\":\n",
        "  bot()"
      ],
      "metadata": {
        "colab": {
          "base_uri": "https://localhost:8080/"
        },
        "id": "eLTNBj45dB9R",
        "outputId": "17633cbc-43c6-4339-fea7-86a97a4fd158"
      },
      "execution_count": null,
      "outputs": [
        {
          "output_type": "stream",
          "name": "stdout",
          "text": [
            "02_agreement_bot\n",
            "What thier favourite animal isTiger\n",
            "my favourite animal is also Tiger! \n"
          ]
        }
      ]
    },
    {
      "cell_type": "code",
      "source": [
        "print(\"03_farenheit_to_celsius\")\n",
        "def temp():\n",
        "  print(\"This code for converting farenheit to celsius\")\n",
        "  farenheit_degree = float(input(\"Enter your farenheit degree.\"))\n",
        "  celsius_degree = (farenheit_degree -32) * 5.0/9.0\n",
        "  print(f\"Temperture {farenheit_degree}F = {celsius_degree} c\")\n",
        "if __name__ == \"__main__\":\n",
        "  temp()"
      ],
      "metadata": {
        "colab": {
          "base_uri": "https://localhost:8080/"
        },
        "id": "e6pW1r0xgt-D",
        "outputId": "97a8f8f7-08d3-42e1-87ad-422e65265934"
      },
      "execution_count": null,
      "outputs": [
        {
          "output_type": "stream",
          "name": "stdout",
          "text": [
            "03_farenheit_to_celsius\n",
            "This code for converting farenheit to celsius\n",
            "Enter your farenheit degree54\n",
            "Temperture 54.0F = 12.222222222222221\n"
          ]
        }
      ]
    },
    {
      "cell_type": "code",
      "source": [
        "print(\"04_How_old_are_they\")\n",
        "\n",
        "def add_ages():\n",
        "  anthon:int = 21\n",
        "  beth:int = anthon + 6\n",
        "  chen:int = beth + 20\n",
        "  drew:int = chen + anthon\n",
        "  ethan:int = chen\n",
        "\n",
        "  print(\"Anthon is\" + str(anthon))\n",
        "  print(\"Beth is\" + str(beth))\n",
        "  print(\"Chen is\" + str(chen))\n",
        "  print(\"Drew is\" + str(drew))\n",
        "  print(\"Ethan is\" + str(ethan))\n",
        "if __name__ == \"__main__\":\n",
        "\n",
        " add_ages()\n",
        "\n",
        "\n",
        "\n",
        "\n",
        "\n"
      ],
      "metadata": {
        "id": "CKGDFiUqlj4Y",
        "colab": {
          "base_uri": "https://localhost:8080/"
        },
        "outputId": "828dfc33-71dc-4334-eaa6-54a49ec1f60e"
      },
      "execution_count": 13,
      "outputs": [
        {
          "output_type": "stream",
          "name": "stdout",
          "text": [
            "04_How_old_are_they\n",
            "Anthon is21\n",
            "Beth is27\n",
            "Chen is47\n",
            "Drew is68\n",
            "Ethan is47\n"
          ]
        }
      ]
    },
    {
      "cell_type": "code",
      "source": [
        "print(\"05 _triangle_perimeter.\")\n",
        "def triangle():\n",
        "  print(\"This code is about perimeter of a triangle .\")\n",
        "  side1 = float(input(\"Enter your first side of no of triangle.\"))\n",
        "  side2 = float(input(\"Enter your second side of no of triangle.\"))\n",
        "  side3 = float(input(\"Enter your third side of no of triangle.\"))\n",
        "  total = float(side1 + side2 + side3)\n",
        "  print(f\"The total side of perimeter is{total}\")\n",
        "if __name__ == \"__main__\":\n",
        "  triangle()"
      ],
      "metadata": {
        "colab": {
          "base_uri": "https://localhost:8080/"
        },
        "id": "NFKePYTwfu3_",
        "outputId": "9ad7bf61-9ec5-4f86-c54a-f18b9e665634"
      },
      "execution_count": 14,
      "outputs": [
        {
          "output_type": "stream",
          "name": "stdout",
          "text": [
            "05 _triangle_perimeter.\n",
            "This code is about perimeter of a triangle .\n",
            "Enter your first side of no of triangle.2\n",
            "Enter your second side of no of triangle.3.3\n",
            "Enter your third side of no of triangle.5\n",
            "The total side of perimeter is10.3\n"
          ]
        }
      ]
    },
    {
      "cell_type": "code",
      "source": [
        "print(\"06_square_number\")\n",
        "def square():\n",
        "  print(\"This number is about square number .\")\n",
        "  number1:int = int(input(\"Enter your number which i will give u a square .\"))\n",
        "  print(f\"The square of number1 is {number1 ** 2}\")\n",
        "if __name__ == \"__main__\":\n",
        "  square()"
      ],
      "metadata": {
        "colab": {
          "base_uri": "https://localhost:8080/"
        },
        "id": "FTVmmLjIksjh",
        "outputId": "486ee59c-6d4c-4e62-9796-cfcffd69ed86"
      },
      "execution_count": 15,
      "outputs": [
        {
          "output_type": "stream",
          "name": "stdout",
          "text": [
            "06_square_number\n",
            "This number is about square number .\n",
            "Enter your number which i will give u a square .16\n",
            "The square of number1 is 256\n"
          ]
        }
      ]
    }
  ]
}