{
  "nbformat": 4,
  "nbformat_minor": 0,
  "metadata": {
    "colab": {
      "provenance": [],
      "authorship_tag": "ABX9TyNTpl14D3jM9AXnuOETZ9u5",
      "include_colab_link": true
    },
    "kernelspec": {
      "name": "python3",
      "display_name": "Python 3"
    },
    "language_info": {
      "name": "python"
    }
  },
  "cells": [
    {
      "cell_type": "markdown",
      "metadata": {
        "id": "view-in-github",
        "colab_type": "text"
      },
      "source": [
        "<a href=\"https://colab.research.google.com/github/nidauxd/ATM/blob/main/01_expression.ipynb\" target=\"_parent\"><img src=\"https://colab.research.google.com/assets/colab-badge.svg\" alt=\"Open In Colab\"/></a>"
      ]
    },
    {
      "cell_type": "code",
      "execution_count": null,
      "metadata": {
        "colab": {
          "base_uri": "https://localhost:8080/"
        },
        "id": "eyyf9scmtJt_",
        "outputId": "59233948-7f16-4fe2-ebcb-8087d26c7e07"
      },
      "outputs": [
        {
          "output_type": "stream",
          "name": "stdout",
          "text": [
            "01_dicesimulator\n",
            "diel in main() start as:10\n",
            "Total of two dies: 11\n",
            "Total of two dies: 6\n",
            "Total of two dies: 6\n",
            "die1 in main() is: 10\n"
          ]
        }
      ],
      "source": [
        "import random\n",
        "print(\"01_dicesimulator\")\n",
        "def roll_dice():\n",
        "  die1:int = random.randint(1,6)\n",
        "  die2:int = random.randint(1,6)\n",
        "  total:int = die1 + die2\n",
        "  print(f\"Total of two dies: {total}\")\n",
        "\n",
        "def main():\n",
        "  die1:int = 10\n",
        "  print(\"diel in main() start as:\" + str(die1))\n",
        "  roll_dice()\n",
        "  roll_dice()\n",
        "  roll_dice()\n",
        "  print(\"die1 in main() is: \" + str(die1))\n",
        "if __name__ == \"__main__\":\n",
        "  main()"
      ]
    },
    {
      "cell_type": "code",
      "source": [
        "print(\"02_e_mc2\")\n",
        "def energy():\n",
        "  c:float = 299792458\n",
        "  m:float =float(input(\"Enter kilos of mass .\"))\n",
        "  print(\"e = m*c^2\")\n",
        "  print(\"Mass = \" + str(m) + \"kg\")\n",
        "  print(\"C =\" + str(c) +\"m/s\")\n",
        "  print(\"e =\" + str( m *c ** 2)+ \"joules\")\n",
        "if __name__ == \"__main__\":\n",
        " energy()"
      ],
      "metadata": {
        "colab": {
          "base_uri": "https://localhost:8080/"
        },
        "id": "YDU0VtaTgZD8",
        "outputId": "66a723eb-0cdb-4c92-d66d-68d1d41dfd27"
      },
      "execution_count": null,
      "outputs": [
        {
          "output_type": "stream",
          "name": "stdout",
          "text": [
            "02_e_mc2\n",
            "Enter kilos of mass .1000\n",
            "e = m*c^2\n",
            "Mass = 1000.0kg\n",
            "C =299792458m/s\n",
            "e =8.987551787368176e+19joules\n"
          ]
        }
      ]
    },
    {
      "cell_type": "code",
      "source": [
        "print(\"03 _feet_to_inches\")\n",
        "inch:int = 12\n",
        "def foot():\n",
        "  feet:int = int(input(\"Enter feet and i will convert it into inches.\"))\n",
        "  print(f\"There are {inch * feet} inches in feet{feet}.\")\n",
        "if __name__ == \"__main__\":\n",
        "  foot()\n"
      ],
      "metadata": {
        "colab": {
          "base_uri": "https://localhost:8080/"
        },
        "id": "bgiQ2TeqqMiW",
        "outputId": "ba8f2f16-a9de-481c-95d0-0b52217b56d5"
      },
      "execution_count": null,
      "outputs": [
        {
          "output_type": "stream",
          "name": "stdout",
          "text": [
            "03 _feet_to_inches\n",
            "Enter feet and i will convert it into inches.45\n",
            "There are 540 inches in feet45.\n"
          ]
        }
      ]
    },
    {
      "cell_type": "code",
      "source": [
        "import math\n",
        "print(\"04_pythagorean_theorem\")\n",
        "def triangle():\n",
        "  ab:float = float(input(\"Enter the length of ab .\"))\n",
        "  ac:float = float(input(\"Enter the length of ac .\"))\n",
        "  bc:float = math.sqrt(ab**2 + ac**2)\n",
        "  print(f\"there is length of bc(the hypothenuse is: {bc})\")\n",
        "if __name__ == \"__main__\":\n",
        "  triangle()"
      ],
      "metadata": {
        "colab": {
          "base_uri": "https://localhost:8080/"
        },
        "id": "umxEQ06Wumpp",
        "outputId": "5751c3d3-36df-4328-f959-1468c733a516"
      },
      "execution_count": null,
      "outputs": [
        {
          "output_type": "stream",
          "name": "stdout",
          "text": [
            "04_pythagorean_theorem\n",
            "Enter the length of ab .4\n",
            "Enter the length of ac .5\n",
            "there is length of bc(the hypothenuse is: 6.4031242374328485)\n"
          ]
        }
      ]
    },
    {
      "cell_type": "code",
      "source": [
        "print(\"05_remainder_division\")\n",
        "\n",
        "def remainder():\n",
        "  num1:int = int(input(\"Enter the number which is divided:\"))\n",
        "  num2:int = int(input(\"Enter the number which is divided by:\"))\n",
        "  quotient:int = num1 // num2\n",
        "  remainder:int = num1 %num2\n",
        "  print(f\"the value of {quotient} and value of {remainder}\")\n",
        "if __name__ == \"__main__\":\n",
        "  remainder()"
      ],
      "metadata": {
        "colab": {
          "base_uri": "https://localhost:8080/"
        },
        "id": "0b9chSomumiM",
        "outputId": "adb4bb4b-8605-4bab-b4c7-218b7655e38c"
      },
      "execution_count": null,
      "outputs": [
        {
          "output_type": "stream",
          "name": "stdout",
          "text": [
            "05_remainder_division\n",
            "Enter the number which is divided:28\n",
            "Enter the number which is divided by:4\n",
            "the value of 7 and value of 0\n"
          ]
        }
      ]
    },
    {
      "cell_type": "code",
      "source": [
        "print(\"o6_rolldice.\")\n",
        "def dies():\n",
        "  die1:int = random.randint(1 ,6)\n",
        "  die2:int = random.randint(1 ,6)\n",
        "  total:int =int(die1 + die2)\n",
        "  print(\"first die:\" + str(die1))\n",
        "  print(\"second die :\" + str(die2))\n",
        "  print(f\"total of two dies are: {total}\")\n",
        "if __name__ == \"__main__\":\n",
        " dies()\n"
      ],
      "metadata": {
        "colab": {
          "base_uri": "https://localhost:8080/"
        },
        "id": "HOo4CsIX3RAF",
        "outputId": "f09290a3-5e47-4088-b18e-d19650b8c8c6"
      },
      "execution_count": null,
      "outputs": [
        {
          "output_type": "stream",
          "name": "stdout",
          "text": [
            "o6_rolldice.\n",
            "first die:6\n",
            "second die :3\n",
            "total of two dies are: 9\n"
          ]
        }
      ]
    },
    {
      "cell_type": "code",
      "source": [
        "print(\"06_seconds_in_year.md\")\n",
        "\n",
        "def main():\n",
        " days_per_year:int = 365\n",
        " hour_per_day:int = 24\n",
        " mins_per_hour:int = 60\n",
        " second_per_min:int = 60\n",
        "\n",
        " print(f\"There are {days_per_year * hour_per_day * mins_per_hour * second_per_min } seconds in year!\")\n",
        "if __name__ == \"__main__\":\n",
        "  main()"
      ],
      "metadata": {
        "colab": {
          "base_uri": "https://localhost:8080/"
        },
        "id": "o3XgPLrXrqij",
        "outputId": "b979ad54-4140-4696-a6f4-5096fe761656"
      },
      "execution_count": 2,
      "outputs": [
        {
          "output_type": "stream",
          "name": "stdout",
          "text": [
            "06_seconds_in_year.md\n",
            "There are 31536000\n"
          ]
        }
      ]
    },
    {
      "cell_type": "code",
      "source": [
        "print(\"07_tiny_mad_lib\")\n",
        "def mad_lib():\n",
        "  noun:str = str(input(\"Enter your noun: \"))\n",
        "  verb:str = str(input(\"Enter your verb: \"))\n",
        "  adjective:str = str(input(\"Enter your adjective: \"))\n",
        "  print(f\"DO your {adjective} {noun} {verb} on the street?  \")\n",
        "if __name__ == \"__main__\":\n",
        "  mad_lib()"
      ],
      "metadata": {
        "colab": {
          "base_uri": "https://localhost:8080/"
        },
        "id": "LNqEFPucxrSL",
        "outputId": "bfdadbf7-94ad-44b3-a16e-431667dca1ca"
      },
      "execution_count": 5,
      "outputs": [
        {
          "output_type": "stream",
          "name": "stdout",
          "text": [
            "07_tiny_mad_lib\n",
            "Enter your noun: dog\n",
            "Enter your verb: barks\n",
            "Enter your adjective: hungry\n",
            "DO your hungry dog barks on the street?  \n"
          ]
        }
      ]
    }
  ]
}