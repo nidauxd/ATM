{
  "nbformat": 4,
  "nbformat_minor": 0,
  "metadata": {
    "colab": {
      "provenance": [],
      "authorship_tag": "ABX9TyNKVeBmEF2CgD4UUepS6VFB",
      "include_colab_link": true
    },
    "kernelspec": {
      "name": "python3",
      "display_name": "Python 3"
    },
    "language_info": {
      "name": "python"
    }
  },
  "cells": [
    {
      "cell_type": "markdown",
      "metadata": {
        "id": "view-in-github",
        "colab_type": "text"
      },
      "source": [
        "<a href=\"https://colab.research.google.com/github/nidauxd/ATM/blob/main/Untitled16.ipynb\" target=\"_parent\"><img src=\"https://colab.research.google.com/assets/colab-badge.svg\" alt=\"Open In Colab\"/></a>"
      ]
    },
    {
      "cell_type": "code",
      "execution_count": 9,
      "metadata": {
        "id": "8LvELe0l447H"
      },
      "outputs": [],
      "source": [
        "List=[ {\n",
        "      \"employee1_id \":1,\n",
        "      \"employee_name\" :\"Bilal Khan\",\n",
        "      \"emp_desig\" : \"Ai\",\n",
        "      \"emp_salary\" : 50000,\n",
        "      \"emp_skills\" :[\"Typescript\" , \"Python\" ,\"c++\"],\n",
        "      \"emp_exp\":[\n",
        "         {\n",
        "             \"company_id\":123,\n",
        "             \"desig\":\"Assist_manager\",\n",
        "             \"salary\":20000,\n",
        "             \"skills\":[\"Next js\",\"develper\"]\n",
        "\n",
        "         },\n",
        "         {\n",
        "             \"company_id\":456,\n",
        "             \"desig\":\"manager\",\n",
        "             \"salary\":30000,\n",
        "             \"skills\":[\"css\",\"html\"]\n",
        "         }\n",
        "\n",
        "\n",
        "     ]\n",
        "\n",
        "},\n",
        "       {\n",
        "    \"employee1_id \": 2,\n",
        "    \"employee_name\" :\"Bilal Khan\",\n",
        "    \"emp_desig\" : \"Ai\",\n",
        "    \"emp_salary\" : 50000,\n",
        "    \"emp_skills\" : [\"Typescript\" , \"Python\" ,\"c++\"],\n",
        "    \"emp_exp\":[\n",
        "         {\n",
        "             \"company_id\":67,\n",
        "             \"desig\":\"Assist_manager\",\n",
        "             \"salary\":20000,\n",
        "             \"skills\":[\"Next js\",\"develper\"]\n",
        "\n",
        "         },\n",
        "         {\n",
        "             \"company_id\":90,\n",
        "             \"desig\":\"manager\",\n",
        "             \"salary\":30000,\n",
        "             \"skills\":[\"css\",\"html\"]\n",
        "         }\n",
        "\n",
        "\n",
        "     ]\n",
        "\n",
        "}\n",
        "]\n"
      ]
    },
    {
      "cell_type": "code",
      "source": [
        "List"
      ],
      "metadata": {
        "colab": {
          "base_uri": "https://localhost:8080/"
        },
        "id": "R3Bsdey2E9fY",
        "outputId": "8555b292-ac81-4e7f-cee4-ddbba5f6b4d2"
      },
      "execution_count": 10,
      "outputs": [
        {
          "output_type": "execute_result",
          "data": {
            "text/plain": [
              "[{'employee1_id ': 1,\n",
              "  'employee_name': 'Bilal Khan',\n",
              "  'emp_desig': 'Ai',\n",
              "  'emp_salary': 50000,\n",
              "  'emp_skills': ['Typescript', 'Python', 'c++'],\n",
              "  'emp_exp': [{'company_id': 123,\n",
              "    'desig': 'Assist_manager',\n",
              "    'salary': 20000,\n",
              "    'skills': ['Next js', 'develper']},\n",
              "   {'company_id': 456,\n",
              "    'desig': 'manager',\n",
              "    'salary': 30000,\n",
              "    'skills': ['css', 'html']}]},\n",
              " {'employee1_id ': 2,\n",
              "  'employee_name': 'Bilal Khan',\n",
              "  'emp_desig': 'Ai',\n",
              "  'emp_salary': 50000,\n",
              "  'emp_skills': ['Typescript', 'Python', 'c++'],\n",
              "  'emp_exp': [{'company_id': 67,\n",
              "    'desig': 'Assist_manager',\n",
              "    'salary': 20000,\n",
              "    'skills': ['Next js', 'develper']},\n",
              "   {'company_id': 90,\n",
              "    'desig': 'manager',\n",
              "    'salary': 30000,\n",
              "    'skills': ['css', 'html']}]}]"
            ]
          },
          "metadata": {},
          "execution_count": 10
        }
      ]
    },
    {
      "cell_type": "markdown",
      "source": [],
      "metadata": {
        "id": "myUVn01qN83a"
      }
    },
    {
      "cell_type": "code",
      "source": [
        "List[0][\"emp_exp\"][0][\"skills\"]"
      ],
      "metadata": {
        "colab": {
          "base_uri": "https://localhost:8080/"
        },
        "id": "J2X-W_QkGDIc",
        "outputId": "68bbce4b-a0d4-40d3-a2f3-3a0636bf8f13"
      },
      "execution_count": 11,
      "outputs": [
        {
          "output_type": "execute_result",
          "data": {
            "text/plain": [
              "['Next js', 'develper']"
            ]
          },
          "metadata": {},
          "execution_count": 11
        }
      ]
    },
    {
      "cell_type": "code",
      "source": [
        "List[0][\"emp_exp\"][1][\"skills\"]"
      ],
      "metadata": {
        "colab": {
          "base_uri": "https://localhost:8080/"
        },
        "id": "wLNE4URYKEi4",
        "outputId": "3c961652-2236-42c6-dc78-d7ac0c665052"
      },
      "execution_count": 17,
      "outputs": [
        {
          "output_type": "execute_result",
          "data": {
            "text/plain": [
              "['css', 'html']"
            ]
          },
          "metadata": {},
          "execution_count": 17
        }
      ]
    },
    {
      "cell_type": "code",
      "source": [],
      "metadata": {
        "id": "qoqjRuIMQZvt"
      },
      "execution_count": null,
      "outputs": []
    },
    {
      "cell_type": "code",
      "source": [
        "employee_all_skills =List[0][\"emp_exp\"][0][\"skills\"] + List[0][\"emp_exp\"][1][\"skills\"]\n",
        "print(employee_all_skills)\n",
        "if List[0][\"emp_skills\"]!=employee_all_skills:\n",
        "  for i in employee_all_skills:\n",
        "    if i not in List[0][\"emp_skills\"]:\n",
        "      List[0][\"emp_skills\"].append(i)\n",
        "  print(List[0][\"emp_skills\"])\n",
        "\n"
      ],
      "metadata": {
        "colab": {
          "base_uri": "https://localhost:8080/"
        },
        "id": "F-0UN0XdN_us",
        "outputId": "278c183c-207d-4168-d408-e04efcf21708"
      },
      "execution_count": 33,
      "outputs": [
        {
          "output_type": "stream",
          "name": "stdout",
          "text": [
            "['Next js', 'develper', 'css', 'html']\n",
            "['Typescript', 'Python', 'c++', 'Next js', 'develper', 'css', 'html']\n"
          ]
        }
      ]
    },
    {
      "cell_type": "code",
      "source": [],
      "metadata": {
        "id": "98bgDaRkTVEd"
      },
      "execution_count": null,
      "outputs": []
    }
  ]
}